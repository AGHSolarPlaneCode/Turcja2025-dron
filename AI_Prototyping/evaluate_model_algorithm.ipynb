{
 "cells": [
  {
   "metadata": {},
   "cell_type": "markdown",
   "source": [
    "### Notes\n",
    "\n",
    "\n",
    "1. Supported formats for testing image are jpg, jpeg, png\n",
    "2. The labels file should have txt format\n",
    "3. The testing image and it's label must have the same name (for obvious reasons the files formats will be different)\n",
    "4. To test different model, algorithm just change the variable ALGORITHM to call your function (the function need to be imported)\n",
    "5. Function should return a list of tuples which contains 'detected_class' and 'coordinates'. The 'detected_class' must be a name of detected object stored as string. The 'coordinates' must be a list prepared according to this scheme: [x_center, y_center, width, height]."
   ],
   "id": "d0c9f720a5c910fd"
  },
  {
   "metadata": {},
   "cell_type": "markdown",
   "source": "### Importing libraries",
   "id": "851d631eadcb85b8"
  },
  {
   "cell_type": "code",
   "id": "initial_id",
   "metadata": {
    "collapsed": true,
    "ExecuteTime": {
     "end_time": "2025-08-30T09:34:23.289378Z",
     "start_time": "2025-08-30T09:34:20.585657Z"
    }
   },
   "source": [
    "from collections import namedtuple\n",
    "from typing import List, Dict, Tuple\n",
    "from ultralytics import YOLO\n",
    "import cv2\n",
    "import glob\n",
    "import time\n",
    "import numpy as np\n",
    "import matplotlib.pyplot as plt\n",
    "import os"
   ],
   "outputs": [],
   "execution_count": 1
  },
  {
   "metadata": {},
   "cell_type": "markdown",
   "source": "### Loading test images",
   "id": "8c9943ab017c2524"
  },
  {
   "metadata": {
    "ExecuteTime": {
     "end_time": "2025-08-30T09:34:26.508699Z",
     "start_time": "2025-08-30T09:34:26.353758Z"
    }
   },
   "cell_type": "code",
   "source": [
    "supported_formats = [\"jpg\", \"jpeg\", \"png\"]\n",
    "\n",
    "TestImagePair = namedtuple(\"TestImage\", [\"name\", \"image\", \"labels\", \"shapes\"])\n",
    "test_images: List[TestImagePair] = []\n",
    "\n",
    "for file_format in supported_formats:\n",
    "    files = glob.glob(os.path.join(\"test_images/images\", \"*.\" + file_format))\n",
    "    for file in files:\n",
    "        label_filepath = file.replace(\"images\", \"labels\").replace(file_format, \"txt\").replace(\"labels\", \"images\", 1)\n",
    "\n",
    "        image = cv2.imread(file, cv2.IMREAD_COLOR)\n",
    "        labels = []\n",
    "        name = os.path.basename(file)\n",
    "\n",
    "        with open(label_filepath, \"r\") as label_file:\n",
    "            labels = label_file.read().splitlines()\n",
    "\n",
    "        test_images.append(TestImagePair(name, image, labels, len(labels)))\n",
    "\n",
    "print(f\"Loaded {len(test_images)} test images\")"
   ],
   "id": "f856b43b0b85761f",
   "outputs": [
    {
     "name": "stdout",
     "output_type": "stream",
     "text": [
      "Loaded 7 test images\n"
     ]
    }
   ],
   "execution_count": 2
  },
  {
   "metadata": {},
   "cell_type": "markdown",
   "source": "### Evaluating",
   "id": "7990a8f03050e6f7"
  },
  {
   "metadata": {
    "ExecuteTime": {
     "end_time": "2025-08-29T19:38:58.922240Z",
     "start_time": "2025-08-29T19:38:58.916654Z"
    }
   },
   "cell_type": "code",
   "source": [
    "def test_yolo_model(image):\n",
    "    model = YOLO(\"YoloV8-finetune/DroneModel/yolov8n_V2_320/weights/best_ncnn_model\", task='detect')\n",
    "    results = model(image, verbose=False)\n",
    "\n",
    "    temp = []\n",
    "    img_width, img_height, _ = image.shape\n",
    "\n",
    "    for result in results:\n",
    "        boxes = result.boxes\n",
    "        for box in boxes:\n",
    "            x, y, width, height = box.xywh[0].tolist()\n",
    "            detected_class = int(box.cls[0].item())\n",
    "            x /= img_width\n",
    "            y /= img_height\n",
    "            width /= img_width\n",
    "            height /= img_height\n",
    "\n",
    "            temp.append((detected_class, [x, y, width, height]))\n",
    "\n",
    "    return temp"
   ],
   "id": "ba75ab900ef3124d",
   "outputs": [],
   "execution_count": 7
  },
  {
   "metadata": {
    "ExecuteTime": {
     "end_time": "2025-08-29T19:39:05.365333Z",
     "start_time": "2025-08-29T19:39:04.804932Z"
    }
   },
   "cell_type": "code",
   "source": [
    "ALGORITHM = test_yolo_model\n",
    "TOLERANCE = 10 # 5%\n",
    "\n",
    "detected_good = 0\n",
    "all_labels_cnt = 0\n",
    "\n",
    "# TODO add counter when label is not detected or when model detects to many labels\n",
    "for timage in test_images:\n",
    "    results: List[Tuple[str, List]] = ALGORITHM(timage.image)\n",
    "\n",
    "    all_labels_cnt += len(timage.labels)\n",
    "\n",
    "    if len(results) > timage.shapes:\n",
    "        continue\n",
    "\n",
    "    image_width, image_height, _ = timage.image.shape\n",
    "\n",
    "    for i, item in enumerate(results):\n",
    "        labels_split = timage.labels[i].split(\" \")\n",
    "        detected_class = labels_split[0]\n",
    "        pred_coordinates = labels_split[1:]\n",
    "        coordinates = results[i][1]\n",
    "\n",
    "        if results[i][0] != detected_class:\n",
    "            continue\n",
    "\n",
    "        x_diff = np.abs(int(coordinates[0]) / image_width - int(pred_coordinates[0]) / image_width)\n",
    "        y_diff = np.abs(int(coordinates[1]) / image_height - int(pred_coordinates[1]) / image_height)\n",
    "        width_diff = np.abs(int(coordinates[2]) / image_width - int(pred_coordinates[2]) / image_width)\n",
    "        height_diff = np.abs(int(coordinates[3]) / image_height - int(pred_coordinates[3]) / image_height)\n",
    "\n",
    "        if np.any([x for x in [x_diff, y_diff, width_diff, height_diff] if x > (TOLERANCE / 100)]):\n",
    "            continue\n",
    "\n",
    "        detected_good += 1\n",
    "\n",
    "try:\n",
    "    print(f\"Number of correct detections: {detected_good}\")\n",
    "    print(f\"Number of wrong object detections: {all_labels_cnt - detected_good}\")\n",
    "    print(f\"All labels: {all_labels_cnt}\")\n",
    "    print(f\"Percentage of correct object detections: {detected_good / all_labels_cnt * 100:.2f}%\")\n",
    "\n",
    "except ZeroDivisionError:\n",
    "    print(f\"Error loading labels\\n\")"
   ],
   "id": "c02acd64455cd76a",
   "outputs": [
    {
     "name": "stdout",
     "output_type": "stream",
     "text": [
      "Loading /home/bartlomiej/Documents/JetBrains/PycharmProjects/ShapesRecogintion_RPI5/YoloV8-finetune/DroneModel/yolov8n_V2_640/weights/best_ncnn_model for NCNN inference...\n",
      "Loading /home/bartlomiej/Documents/JetBrains/PycharmProjects/ShapesRecogintion_RPI5/YoloV8-finetune/DroneModel/yolov8n_V2_640/weights/best_ncnn_model for NCNN inference...\n",
      "Loading /home/bartlomiej/Documents/JetBrains/PycharmProjects/ShapesRecogintion_RPI5/YoloV8-finetune/DroneModel/yolov8n_V2_640/weights/best_ncnn_model for NCNN inference...\n",
      "Loading /home/bartlomiej/Documents/JetBrains/PycharmProjects/ShapesRecogintion_RPI5/YoloV8-finetune/DroneModel/yolov8n_V2_640/weights/best_ncnn_model for NCNN inference...\n",
      "Loading /home/bartlomiej/Documents/JetBrains/PycharmProjects/ShapesRecogintion_RPI5/YoloV8-finetune/DroneModel/yolov8n_V2_640/weights/best_ncnn_model for NCNN inference...\n",
      "Loading /home/bartlomiej/Documents/JetBrains/PycharmProjects/ShapesRecogintion_RPI5/YoloV8-finetune/DroneModel/yolov8n_V2_640/weights/best_ncnn_model for NCNN inference...\n",
      "Loading /home/bartlomiej/Documents/JetBrains/PycharmProjects/ShapesRecogintion_RPI5/YoloV8-finetune/DroneModel/yolov8n_V2_640/weights/best_ncnn_model for NCNN inference...\n",
      "Number of correct detections: 0\n",
      "Number of wrong object detections: 10\n",
      "All labels: 10\n",
      "Percentage of correct object detections: 0.00%\n"
     ]
    }
   ],
   "execution_count": 9
  },
  {
   "metadata": {
    "ExecuteTime": {
     "end_time": "2025-08-30T09:35:30.254470Z",
     "start_time": "2025-08-30T09:35:29.562530Z"
    }
   },
   "cell_type": "code",
   "source": [
    "model = YOLO(\"YoloV8-finetune/DroneModel/yolov8n_V2_640/weights/best_ncnn_model\", task='detect')\n",
    "result = model(\"test_images/images/shapes_eval_1.jpg\", verbose=False)\n",
    "\n",
    "result[0].show()"
   ],
   "id": "d4bd5b10ca7cb6d2",
   "outputs": [
    {
     "name": "stdout",
     "output_type": "stream",
     "text": [
      "Loading /home/bartlomiej/Documents/JetBrains/PycharmProjects/ShapesRecogintion_RPI5/YoloV8-finetune/DroneModel/yolov8n_V2_640/weights/best_ncnn_model for NCNN inference...\n"
     ]
    }
   ],
   "execution_count": 13
  }
 ],
 "metadata": {
  "kernelspec": {
   "display_name": "Python 3",
   "language": "python",
   "name": "python3"
  },
  "language_info": {
   "codemirror_mode": {
    "name": "ipython",
    "version": 2
   },
   "file_extension": ".py",
   "mimetype": "text/x-python",
   "name": "python",
   "nbconvert_exporter": "python",
   "pygments_lexer": "ipython2",
   "version": "2.7.6"
  }
 },
 "nbformat": 4,
 "nbformat_minor": 5
}
